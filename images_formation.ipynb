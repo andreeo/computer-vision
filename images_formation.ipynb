{
  "nbformat": 4,
  "nbformat_minor": 0,
  "metadata": {
    "colab": {
      "name": "images_formation.ipynb",
      "provenance": [],
      "toc_visible": true,
      "authorship_tag": "ABX9TyMfR5PhGxjx+CZLPY3eES2n",
      "include_colab_link": true
    },
    "kernelspec": {
      "name": "python3",
      "display_name": "Python 3"
    },
    "language_info": {
      "name": "python"
    }
  },
  "cells": [
    {
      "cell_type": "markdown",
      "metadata": {
        "id": "view-in-github",
        "colab_type": "text"
      },
      "source": [
        "<a href=\"https://colab.research.google.com/github/andreeo/computer-vision/blob/main/images_formation.ipynb\" target=\"_parent\"><img src=\"https://colab.research.google.com/assets/colab-badge.svg\" alt=\"Open In Colab\"/></a>"
      ]
    },
    {
      "cell_type": "markdown",
      "source": [
        "# How is image formed?\n",
        "\n",
        "**What is a camera ?**\n",
        "The Latin word camera mens a room. In fact in Hindi the most popular language in india, the word \"Kamara\" means a room.\n",
        "\n",
        "The Latin word camera was brought to India by Portuguese along with the tomatoes.\n",
        "\n",
        "Needless to say in Portuguese the word \"kamara\" means in room.\n",
        "\n",
        "The Latin phrase \"camera obscura\" literally meant a dark room. The ancients knew that if light passes through a small hole into a dark room an inverted image of the scene is proyected onto the wall. In fact in 2017 when it had a particular solar eclipse, a guy photographed a picture, leaves of trees make pinhole cameras.\n",
        "\n",
        "So camera obscura is nothing but a pinhole camera. Let`s see how it works?\n",
        "\n",
        "We have a 3D object and we have a plane onto which we want to proyect the image of the 3D object.\n",
        "\n",
        "Let's call this the image plane (the plane onto which we want to proyect the image), we place another plane with a pinhole between the 3D object and this plane. Let's cover this arrangement from all sides, so that the only light hitting the image plane is coming through the pinhole.\n",
        "\n",
        "\n",
        "\n",
        "> The explication following come from here. [link text](https://youtu.be/aN7Tbb_FHRE?t=83)\n",
        "\n",
        "Let's consider this point (a man's head) on the 3D object. Light from variuos sources hit this point and they are reflected in all directions. One of this\n",
        "lights enters the pinhole and hits the image plane, other light rays from other parts of the 3D object enter the pinhole and form an inverted image of the 3D object.\n",
        "\n",
        "for a pinhole camera the distance of the plane from the pinhole is called the **focal length(f)**.\n",
        "\n",
        "Using basic trigonometry you can see that if you move the plane close to  the pinhole you will see a smaller iamge and if you move it further away  you will see a larger image. **The size of the image  is proportional to the focal length**, second **the height of the  image of the object  is inversely scaled by it's distance from pinhole $$\\frac{1}{Distance}$$\n",
        "\n",
        "If you  move the object closer to the pinhole the image becomes bigger if you move it away from the pinhole, the image becomes smaller.\n",
        "\n"
      ],
      "metadata": {
        "id": "XRhohutClVEj"
      }
    },
    {
      "cell_type": "markdown",
      "source": [
        "# Digital Images\n",
        "Let's see how color is recorded by a digital camera. Inside you digital camera\n",
        "is a sensor that is sensitve to visible light or photons. The sensor has  many  photo sites or pixeles arranged in a reactangular grid. These photo sites  produce an electrical charge directly proportional to the amount of light or photons it recieves.\n",
        "\n",
        "Depending on the scene we are are recording different pixels of the sensor are  exposed to different amounts of light and we will see a pattern of electrical charge. The amount of electrical charge is converted  to a number between 0 and 255.\n"
      ],
      "metadata": {
        "id": "FSpPO4myhKT3"
      }
    },
    {
      "cell_type": "markdown",
      "source": [
        "#BAYER PATTER\n",
        "\n",
        "![battern-patter](https://upload.wikimedia.org/wikipedia/commons/thumb/3/37/Bayer_pattern_on_sensor.svg/350px-Bayer_pattern_on_sensor.svg.png)\n",
        "\n",
        "\n",
        "\n",
        "Color sensors are much complicated. Every pixel in the sensor records only  one color -  red green  or blue. The pattern shown  here is called the  Bayer pattern. In bayer pattern there are twice as many green pixels compared to blue and red pixels because the human eye is much more sensitive to green light  compared to the red or blue light. The two  missing channels at every pixel are calculated by interpolating the values from the neighboring pixels. This process  is called Demosaicing.\n",
        "\n",
        "![demosaicing](https://quecamarareflex.com/wp-content/uploads/2019/11/interpolacion-cromatica-demosaicing-algoritmo.png)\n",
        "\n",
        "#How our image is  stored on a disk?\n",
        "\n",
        "Once the image is read from the sensor it is demosaiced and usually converted to an RGB image. Usually this array of RGB pixels is *compressed to JPG or PNG*\n",
        "formats before storing on disk. \n",
        "\n",
        "Most image formats like JPG have two parts.\n",
        "1. The image  header - this parts contains image metadata like width and height of the image, the number of channels, the color profile, the number of bits per pixel and so on and so forth. \n",
        "2. And the second part is the data, this part actually contains  the RGB values.\n",
        "\n",
        "But **how are images represented in memory  in OpenCV?**\n",
        "\n",
        "When we read an image using OpenCV **it first decompressed the image** and **stores all images in a standard format**. In the C++ version of OpenCV, images are stored in the Mat Class. \n",
        "\n",
        "The Mat class has two parts:\n",
        "\n",
        "1. The image header part - contains image  metadata like the width and the height of the image, the number of channels, the number of bits per pixel andso on and so forth.\n",
        "2. The second part is the data. In this part the uncompressed BGR values are\n",
        "stored in row mayor format,\n",
        "\n",
        "The question is why  not  RGB, why  BGR?\n",
        "It is just  for  historical reasons.\n",
        "\n",
        "In  the Pythonversion  of OpenCV the image is a NumPy array."
      ],
      "metadata": {
        "id": "OwG8w9pfkJAy"
      }
    }
  ]
}